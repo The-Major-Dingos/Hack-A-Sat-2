{
 "cells": [
  {
   "cell_type": "code",
   "execution_count": 1,
   "id": "2ff1fcf1-e6af-44dc-8efb-645c9344325d",
   "metadata": {},
   "outputs": [
    {
     "name": "stdout",
     "output_type": "stream",
     "text": [
      "hello world\n"
     ]
    }
   ],
   "source": [
    "from skyfield.positionlib import ICRF\n",
    "from sgp4.api import Satrec, WGS72\n",
    "from datetime import datetime\n",
    "print('hello world')"
   ]
  },
  {
   "cell_type": "code",
   "execution_count": 3,
   "id": "afd85fa1-6f02-4548-a597-9652c984b9cf",
   "metadata": {},
   "outputs": [],
   "source": [
    "x, y, z = [8449.401305, 9125.794363, -17.461357]\n",
    "vx, vy, vz = [-1.419072, 6.780149, 0.002865]\n",
    "time = '2021-06-26-19:20:00.000-UTC'"
   ]
  }
 ],
 "metadata": {
  "kernelspec": {
   "display_name": "guardiansenv",
   "language": "python",
   "name": "guardiansenv"
  },
  "language_info": {
   "codemirror_mode": {
    "name": "ipython",
    "version": 3
   },
   "file_extension": ".py",
   "mimetype": "text/x-python",
   "name": "python",
   "nbconvert_exporter": "python",
   "pygments_lexer": "ipython3",
   "version": "3.8.5"
  }
 },
 "nbformat": 4,
 "nbformat_minor": 5
}